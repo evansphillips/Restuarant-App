{
 "cells": [
  {
   "cell_type": "code",
   "execution_count": 203,
   "id": "a5e724cb-7dc8-4ff9-a7b1-2e62919870af",
   "metadata": {},
   "outputs": [
    {
     "name": "stdout",
     "output_type": "stream",
     "text": [
      "The lab_black extension is already loaded. To reload it, use:\n",
      "  %reload_ext lab_black\n",
      "The autoreload extension is already loaded. To reload it, use:\n",
      "  %reload_ext autoreload\n"
     ]
    }
   ],
   "source": [
    "%load_ext lab_black\n",
    "%load_ext autoreload\n",
    "%autoreload 2"
   ]
  },
  {
   "cell_type": "code",
   "execution_count": null,
   "id": "c041abed-d610-4034-835e-c66a1e027a77",
   "metadata": {
    "tags": []
   },
   "outputs": [],
   "source": [
    "from restaurant_app import item, food, drink, combo, Information, menu, combos, side"
   ]
  },
  {
   "cell_type": "code",
   "execution_count": 185,
   "id": "c3198e2d-2fbc-4bf3-aefa-4ee831f6cc0c",
   "metadata": {},
   "outputs": [],
   "source": [
    "from class_item import Item\n",
    "from class_combo import Combo\n",
    "from class_information import CustomerInformation\n",
    "from class_menu import Menu\n",
    "from customer_order import CustomerOrder"
   ]
  },
  {
   "cell_type": "code",
   "execution_count": null,
   "id": "7ae93b83-e1ba-4da1-9ad7-b9bbd23bd5e0",
   "metadata": {},
   "outputs": [],
   "source": [
    "Evan = CustomerInformation(\n",
    "    *\"Evan, 2120 102nd Pl SE 98004, 4256471066, evansphillips@berkeley.edu, 1234123412341234\".split(\n",
    "        \", \"\n",
    "    )\n",
    ")"
   ]
  },
  {
   "cell_type": "code",
   "execution_count": 112,
   "id": "70392680-8c9a-4d8b-a3b1-675d3e4b0677",
   "metadata": {},
   "outputs": [
    {
     "data": {
      "text/plain": [
       "10"
      ]
     },
     "execution_count": 112,
     "metadata": {},
     "output_type": "execute_result"
    }
   ],
   "source": [
    "len(\"1234567898\")"
   ]
  },
  {
   "cell_type": "code",
   "execution_count": 70,
   "id": "aab65ceb-f926-4f5b-b3a8-0b6204f4e470",
   "metadata": {},
   "outputs": [],
   "source": [
    "my_order.remove_item(\"Cheeseburger\", 4)"
   ]
  },
  {
   "cell_type": "code",
   "execution_count": 82,
   "id": "b4f5e40e-71a6-4b91-bb21-ef1647ff7a3c",
   "metadata": {},
   "outputs": [
    {
     "name": "stdout",
     "output_type": "stream",
     "text": [
      "30.57 EUR\n"
     ]
    }
   ],
   "source": [
    "my_order.show_total_price()"
   ]
  },
  {
   "cell_type": "code",
   "execution_count": 87,
   "id": "dc8e0b2c-b940-4bef-a385-d6e863b8f92b",
   "metadata": {},
   "outputs": [
    {
     "name": "stdout",
     "output_type": "stream",
     "text": [
      "{Cheeseburger: 3}\n"
     ]
    }
   ],
   "source": [
    "import pprint\n",
    "\n",
    "pprint.pprint(my_order.order_history)"
   ]
  },
  {
   "cell_type": "code",
   "execution_count": 137,
   "id": "45b626b1-7af1-4a24-ad03-9288262ea48f",
   "metadata": {},
   "outputs": [],
   "source": [
    "menu = Menu()"
   ]
  },
  {
   "cell_type": "code",
   "execution_count": 146,
   "id": "75ea80ea-7d8e-4d32-8171-d9ca8a77ea46",
   "metadata": {},
   "outputs": [
    {
     "data": {
      "text/plain": [
       "20"
      ]
     },
     "execution_count": 146,
     "metadata": {},
     "output_type": "execute_result"
    }
   ],
   "source": [
    "menu.menu[\"Hamburger\"].p_time_mins"
   ]
  },
  {
   "cell_type": "code",
   "execution_count": null,
   "id": "52bcf042-4e8b-48aa-a9e3-eed339b0b118",
   "metadata": {},
   "outputs": [],
   "source": [
    "from class_item import Item\n",
    "from class_combo import Combo\n",
    "from class_information import CustomerInformation\n",
    "from class_menu import Menu"
   ]
  },
  {
   "cell_type": "markdown",
   "id": "60bde59e-9a2a-4d41-9044-a0708e61b445",
   "metadata": {},
   "source": [
    "my_order = CustomerOrder()\n",
    "my_order.begin_order()"
   ]
  },
  {
   "cell_type": "code",
   "execution_count": null,
   "id": "cd2cde41-9155-4435-a5c4-1f8f748664b7",
   "metadata": {
    "tags": []
   },
   "outputs": [
    {
     "name": "stdout",
     "output_type": "stream",
     "text": [
      "====================================================\n",
      "Welcome to Evan's! what's your local currency?\n",
      "\n",
      "USD, EUR, GBP, INR, AUD, CAD, SGD, CHF, MYR, JPY, CNY\n"
     ]
    },
    {
     "name": "stdin",
     "output_type": "stream",
     "text": [
      " USD\n"
     ]
    },
    {
     "name": "stdout",
     "output_type": "stream",
     "text": [
      "1. Hamburger - (500 cal)......... $10.00\n",
      "2. Cheeseburger - (550 cal)......... $12.10\n",
      "3. Double-Cheeseburger - (600 cal)......... $13.00\n",
      "4. Bacon Cheeseburger - (750 cal)......... $13.00\n",
      "5. Chicken Burger - (450 cal)......... $11.50\n",
      "6. Garden Burger - (300 cal)......... $12.00\n",
      "7. 8 Ct Chicken Nuggets - (300 cal)......... $9.00\n",
      "8. 12 Ct Chicken Nuggets - (430 cal)......... $10.50\n",
      "9. Egg Sandwhich - (390 cal)......... $8.00\n",
      "10. Egg Biscuit - (340 cal)......... $7.50\n",
      "11. French Fries - (100 cal)......... $3.00\n",
      "12. Nachos - (150 cal)......... $2.00\n",
      "13. Onion Rings - (200 cal)......... $2.50\n",
      "14. Mac And Cheese - (230 cal)......... $3.00\n",
      "15. Tater Tots - (240 cal)......... $2.50\n",
      "16. Hash Browns - (200 cal)......... $1.50\n",
      "17. Sprite - (150 cal)......... $2.00\n",
      "18. Coke - (1 cal)......... $2.00\n",
      "19. Dr.Pepper - (150 cal)......... $2.00\n",
      "20. Fanta - (150 cal)......... $2.00\n",
      "21. Pepsi - (150 cal)......... $2.00\n",
      "22. Mountain Dew - (200 cal)......... $2.00\n",
      "23. Root Beer - (150 cal)......... $2.00\n",
      "24. Diet Coke - (150 cal)......... $2.00\n",
      "25. Bottled Water - (0 cal)......... $3.00\n",
      "26. Iced Coffee - (120 cal)......... $2.50\n",
      "27. Combo #1 - (750 cal)......... $13.50\n",
      "28. Combo #2 - (850 cal)......... $14.490\n",
      "29. Combo #3 - (800 cal)......... $14.40\n",
      "30. Combo #4 - (530 cal)......... $16.20\n",
      "31. Combo #5 - (710 cal)......... $10.80\n",
      "32. Combo #6 - (690 cal)......... $12.150\n",
      "None\n"
     ]
    },
    {
     "name": "stdin",
     "output_type": "stream",
     "text": [
      "\n",
      "What would you like to order today? One item at a time, please. Quantity is the next question.\n",
      "\n",
      " pepsi\n"
     ]
    }
   ],
   "source": [
    "from customer_order import CustomerOrder\n",
    "\n",
    "\n",
    "if __name__ == \"__main__\":\n",
    "    print(\"=\" * 52)\n",
    "    my_order = CustomerOrder()\n",
    "    my_order.begin_order()"
   ]
  },
  {
   "cell_type": "code",
   "execution_count": 246,
   "id": "cd6ecb16-cc32-4b99-be18-05211807db68",
   "metadata": {},
   "outputs": [],
   "source": [
    "menu = Menu()\n",
    "new_dict_lower = dict((k.lower(), v) for k, v in menu.menu.items())"
   ]
  },
  {
   "cell_type": "code",
   "execution_count": 248,
   "id": "5400c52c-03fd-4db0-8349-a3fe93f62aa8",
   "metadata": {},
   "outputs": [
    {
     "data": {
      "text/plain": [
       "True"
      ]
     },
     "execution_count": 248,
     "metadata": {},
     "output_type": "execute_result"
    }
   ],
   "source": [
    "\"hamburger\" in new_dict_lower"
   ]
  }
 ],
 "metadata": {
  "kernelspec": {
   "display_name": "Python 3",
   "language": "python",
   "name": "python3"
  },
  "language_info": {
   "codemirror_mode": {
    "name": "ipython",
    "version": 3
   },
   "file_extension": ".py",
   "mimetype": "text/x-python",
   "name": "python",
   "nbconvert_exporter": "python",
   "pygments_lexer": "ipython3",
   "version": "3.8.8"
  }
 },
 "nbformat": 4,
 "nbformat_minor": 5
}
