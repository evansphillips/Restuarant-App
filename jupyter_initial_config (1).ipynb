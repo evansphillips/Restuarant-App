{
 "cells": [
  {
   "cell_type": "markdown",
   "id": "535c3810-1720-4d43-8d8d-349ce451ef38",
   "metadata": {},
   "source": [
    "# Customize Jupyter Lab After a Clean Install\n",
    "\n",
    "Things to cover:\n",
    "1) Environments  \n",
    "    A) Adding to Python (terminal)  \n",
    "    B) Adding to iPython (jupyter lab)  \n",
    "2) Dark Theme (only if you like it)\n",
    "3) Force Line Numbers for Code Cells\n",
    "4) Auto-Black (PEP8) Formatting in Notebooks\n",
    "5) Auto Reload imports each time a cell is run"
   ]
  },
  {
   "cell_type": "markdown",
   "id": "4d34cc7d-e6db-4b0e-b99c-660631b6efb6",
   "metadata": {},
   "source": [
    "------------\n",
    "## 1) Environments\n",
    "#### A) Adding to Python itself (aka terminal window stuff)\n",
    "\n",
    "Environments are important for 3 main reasons:\n",
    "1) Working on multiple projects, which each have their own package requirements, simultaneously\n",
    "2) Separating your \"System Python\" from your \"working Python\" (especially true on Mac / Linux)\n",
    "3) Sharing your code (and thus your code requirements, aka imported packages) with collaborators\n",
    "\n",
    "With that in mind, in my eyes, you have 3 main choices for how to manage environments.\n",
    "1) `pipenv` (or maybe just `venv`)  \n",
    "    A) Here's a bit of a comparison from StackOverflow: https://stackoverflow.com/a/41573588\n",
    "2) `conda`   \n",
    "    A) https://conda.io/projects/conda/en/latest/user-guide/tasks/manage-environments.html#creating-an-environment-with-commands\n",
    "3) `poetry`  \n",
    "    A) https://python-poetry.org/\n",
    "\n",
    "Personally, I mostly use #2 `conda`, unless there's a reason not to.\n",
    "  \n",
    "#### B) Adding to Jupyter Lab (so you can select from the drop-down in upper right)\n",
    "1) Open a terminal window\n",
    "2) activate your desired environment\n",
    "3) if you don't have `ipykernel` installed in this environment, simply add it:  \n",
    "    `conda install ipykernel`   \n",
    "    (or `pip install ipykernel` also works)  \n",
    "4) Finally, add the existing (and acttivated) environment into the ipykernel spec, so that Jupyter Lab can find it:  \n",
    "`python -m ipykernel install --user --name actual_python_env_name --display-name \"Drop-down Display Name Here\"`  \n",
    "^^ in this terminal code, only `actual_python_env_name` or the stuff inside double quotes (`Drop-down Display Name Here`) should change, everything else is static ^^\n",
    "\n",
    "Documentation found here: https://ipython.readthedocs.io/en/stable/install/kernel_install.html#kernels-for-different-environments  \n",
    "  "
   ]
  },
  {
   "cell_type": "markdown",
   "id": "c016cfc4-da94-41ad-8caf-69bf31e57926",
   "metadata": {},
   "source": [
    "---------------\n",
    "## 2) Dark Theme\n",
    "\n",
    "<img src=\"jupyter_lab_dark_theme.png\">"
   ]
  },
  {
   "cell_type": "markdown",
   "id": "29096ba1-43b9-4ca9-877f-da0cb0df4baa",
   "metadata": {},
   "source": [
    "--------------------\n",
    "## 3) Force Line Numbers for Code Cells\n",
    "1) Settings -> Advanced Settings Editor (very bottom) -> \"Notebook\" (about 2/3 of the way down)\n",
    "2) Add the following code to the \"User Settings\" window (right side, probably empty when you first open it)  \n",
    "\\-\\-\\-\\-\\-\\-\\-\\-\\-\\-\\-\\-\\-\\-\\-\\-\\-\\-\\-\\-\n",
    "```\n",
    "{\n",
    "       \"codeCellConfig\": {\n",
    "           \"lineNumbers\": true\n",
    "       }\n",
    "}\n",
    "```\n",
    "\\-\\-\\-\\-\\-\\-\\-\\-\\-\\-\\-\\-\\-\\-\\-\\-\\-\\-\\-\\-  \n",
    "3) Of course, there are a bunch of other settings you can customize there as well, this is the only one I use frequently.\n",
    "4) Save \"User Settings\" -> close \"Settings\" tab   \n",
    "NOTE: This change might not take effect until you restart Jupyter Lab, but it will persist from here forward.\n"
   ]
  },
  {
   "cell_type": "markdown",
   "id": "84d4d095-36b4-4810-93b6-80c76f7cb20c",
   "metadata": {},
   "source": [
    "--------------------\n",
    "## 4) Auto-Black (PEP8) Formatting in Notebooks  \n",
    "Beware: This will modify your code cells AFTER the execution is complete. If the computation takes a long time, and you actively edit the cell that is being run, those edits will be removed (LOST) as soon as the cell computation completes\n",
    "Even so, this makes reading notebooks (and copying completed code over to a `helpful_abstraction.py` file) *MUCH* easier & neater.\n",
    "\n",
    "1) Open a new terminal window, activate your current environment, then run:  \n",
    "    `conda install -c conda-forge nb_black`  \n",
    "2) Come back into your notebook, insert a code cell at the very top (so you'll run it next time you open the notebook too) and type `%load_ext lab_black` (I'll include this exact code cell at the bottom of this demo.)"
   ]
  },
  {
   "cell_type": "markdown",
   "id": "e1d6fed4-b754-49cd-ac7d-68a742e79767",
   "metadata": {},
   "source": [
    "--------------------\n",
    "## 5) Auto Reload imports each time a cell is run\n",
    "When importing custom functions from your own `helpful_abstraction.py` files, iPython will only actually read the file the very first time it's imported. If you're actively editing that `helpful_abstraction.py` file, even if you re-run the `import helpful_abstraction as ha` line of code, all iPython does is say \"I already have that cached in memory, I'll be efficient and NOT read it from the source\" so you're stuck unless you restart the whole kernel and start from the top again. To fix this, we can use a built-in magic method called \"autoreload\". At the top of your notebook, simply put the following two lines:  \n",
    "\\-\\-\\-\\-\\-\\-\\-\\-\\-\\-\\-\\-\\-\\-\\-\\-\\-\\-\\-\\-\n",
    "```\n",
    "%load_ext autoreload\n",
    "%autoreload 2\n",
    "```\n",
    "\\-\\-\\-\\-\\-\\-\\-\\-\\-\\-\\-\\-\\-\\-\\-\\-\\-\\-\\-\\-  \n",
    "Here's the exact \"starter cell\" I use as the very first cell in nearly every notebook I develop in:"
   ]
  },
  {
   "cell_type": "code",
   "execution_count": 1,
   "id": "91b60118-42ee-44f8-a0c6-6fed9161fe7d",
   "metadata": {},
   "outputs": [],
   "source": [
    "%load_ext lab_black\n",
    "%load_ext autoreload\n",
    "%autoreload 2"
   ]
  },
  {
   "cell_type": "code",
   "execution_count": 4,
   "id": "099cb489-5182-4eba-aa33-27b44a2e2330",
   "metadata": {},
   "outputs": [
    {
     "data": {
      "text/plain": [
       "'this_is_fun:_this_is_really_longmuch_longer_than_the_required_80_chars'"
      ]
     },
     "execution_count": 4,
     "metadata": {},
     "output_type": "execute_result"
    }
   ],
   "source": [
    "## Example of lab_black working:\n",
    "\n",
    "\"\"\"\n",
    "### This input: \n",
    "\n",
    "def ugly(x):\n",
    "    return (str(x) + \": this is really long\" + \"much longer than the required 80 chars\").upper().lower().replace(\" \", \"_\")\n",
    "\n",
    "becomes . . . \n",
    "\n",
    "\"\"\"\n",
    "\n",
    "\n",
    "def ugly(x):\n",
    "    return (\n",
    "        (str(x) + \": this is really long\" + \"much longer than the required 80 chars\")\n",
    "        .upper()\n",
    "        .lower()\n",
    "        .replace(\" \", \"_\")\n",
    "    )\n",
    "\n",
    "\n",
    "ugly(\"this is fun\")"
   ]
  },
  {
   "cell_type": "code",
   "execution_count": 2,
   "id": "1a266303-7d6b-4ba1-88b5-f81095a3ac3a",
   "metadata": {},
   "outputs": [],
   "source": [
    "def ugly(x):\n",
    "    return (\n",
    "        (str(x) + \": this is really long\" + \"much longer than the required 80 chars\")\n",
    "        .upper()\n",
    "        .lower()\n",
    "        .replace(\" \", \"_\")\n",
    "    )"
   ]
  },
  {
   "cell_type": "code",
   "execution_count": null,
   "id": "05f3f140-1bed-4a45-b2e9-f7f46eb04a82",
   "metadata": {},
   "outputs": [],
   "source": []
  }
 ],
 "metadata": {
  "kernelspec": {
   "display_name": "Python 3",
   "language": "python",
   "name": "python3"
  },
  "language_info": {
   "codemirror_mode": {
    "name": "ipython",
    "version": 3
   },
   "file_extension": ".py",
   "mimetype": "text/x-python",
   "name": "python",
   "nbconvert_exporter": "python",
   "pygments_lexer": "ipython3",
   "version": "3.9.6"
  }
 },
 "nbformat": 4,
 "nbformat_minor": 5
}
